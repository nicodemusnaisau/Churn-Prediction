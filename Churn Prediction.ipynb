{
 "cells": [
  {
   "cell_type": "markdown",
   "id": "e75f9f36",
   "metadata": {},
   "source": [
    "# Customer Churn Prediction"
   ]
  },
  {
   "cell_type": "markdown",
   "id": "6b1260c5",
   "metadata": {},
   "source": [
    "#### Author : Nicodemus Naisau (demsroadmap@gmail.com"
   ]
  },
  {
   "cell_type": "markdown",
   "id": "caefb1a7",
   "metadata": {},
   "source": [
    "<img src=\"https://s16353.pcdn.co/wp-content/uploads/2018/06/Churn.png\" alt=\"alt text\" title=\"image Title\" />"
   ]
  },
  {
   "cell_type": "code",
   "execution_count": 17,
   "id": "1a411313",
   "metadata": {},
   "outputs": [],
   "source": [
    "import warnings\n",
    "import joblib\n",
    "import numpy as np\n",
    "import pandas as pd\n",
    "import seaborn as sns\n",
    "import scikitplot as skplot\n",
    "from matplotlib import pyplot as plt\n",
    "from sklearn.metrics import classification_report, roc_auc_score, accuracy_score, precision_score, recall_score, f1_score, jaccard_score\n",
    "from sklearn.model_selection import train_test_split, GridSearchCV, cross_validate, validation_curve\n",
    "from sklearn.tree import DecisionTreeClassifier\n",
    "from sklearn.svm import SVC\n",
    "from sklearn.ensemble import RandomForestClassifier, GradientBoostingClassifier, VotingClassifier, AdaBoostClassifier\n",
    "from sklearn.model_selection import GridSearchCV, cross_validate, RandomizedSearchCV, validation_curve\n",
    "from sklearn.neighbors import KNeighborsClassifier\n",
    "from sklearn.linear_model import LogisticRegression\n",
    "from xgboost import XGBClassifier\n",
    "from lightgbm import LGBMClassifier\n",
    "from catboost import CatBoostClassifier\n",
    "from sklearn.preprocessing import MinMaxScaler, LabelEncoder, OneHotEncoder, StandardScaler\n",
    "from sklearn.naive_bayes import GaussianNB\n",
    "from sklearn.metrics import confusion_matrix\n",
    "from sklearn.model_selection import cross_val_score\n",
    "from sklearn import  metrics"
   ]
  },
  {
   "cell_type": "code",
   "execution_count": 18,
   "id": "72eb6e74",
   "metadata": {},
   "outputs": [],
   "source": [
    "from sklearn.exceptions import DataConversionWarning\n",
    "warnings.filterwarnings(action='ignore', category=DataConversionWarning)\n",
    "warnings.simplefilter(action='ignore', category=Warning)\n",
    "warnings.filterwarnings(\"ignore\", category=UserWarning)\n",
    "warnings.filterwarnings(\"ignore\", category=FutureWarning)"
   ]
  },
  {
   "cell_type": "code",
   "execution_count": 19,
   "id": "d094e986",
   "metadata": {},
   "outputs": [],
   "source": [
    "pd.set_option('display.max_columns', None)\n",
    "pd.set_option('display.max_rows', None)\n",
    "pd.set_option('display.float_format', lambda x: '%.3f' % x)\n",
    "pd.set_option('display.width', 500)"
   ]
  },
  {
   "cell_type": "code",
   "execution_count": 20,
   "id": "75ea2ac6",
   "metadata": {},
   "outputs": [
    {
     "data": {
      "text/html": [
       "<div>\n",
       "<style scoped>\n",
       "    .dataframe tbody tr th:only-of-type {\n",
       "        vertical-align: middle;\n",
       "    }\n",
       "\n",
       "    .dataframe tbody tr th {\n",
       "        vertical-align: top;\n",
       "    }\n",
       "\n",
       "    .dataframe thead th {\n",
       "        text-align: right;\n",
       "    }\n",
       "</style>\n",
       "<table border=\"1\" class=\"dataframe\">\n",
       "  <thead>\n",
       "    <tr style=\"text-align: right;\">\n",
       "      <th></th>\n",
       "      <th>UpdatedAt</th>\n",
       "      <th>customerID</th>\n",
       "      <th>gender</th>\n",
       "      <th>SeniorCitizen</th>\n",
       "      <th>Partner</th>\n",
       "      <th>tenure</th>\n",
       "      <th>PhoneService</th>\n",
       "      <th>StreamingTV</th>\n",
       "      <th>InternetService</th>\n",
       "      <th>PaperlessBilling</th>\n",
       "      <th>MonthlyCharges</th>\n",
       "      <th>TotalCharges</th>\n",
       "      <th>Churn</th>\n",
       "    </tr>\n",
       "  </thead>\n",
       "  <tbody>\n",
       "    <tr>\n",
       "      <th>0</th>\n",
       "      <td>202006</td>\n",
       "      <td>45759018157</td>\n",
       "      <td>Female</td>\n",
       "      <td>No</td>\n",
       "      <td>Yes</td>\n",
       "      <td>1</td>\n",
       "      <td>No</td>\n",
       "      <td>No</td>\n",
       "      <td>Yes</td>\n",
       "      <td>Yes</td>\n",
       "      <td>29.850</td>\n",
       "      <td>29.850</td>\n",
       "      <td>No</td>\n",
       "    </tr>\n",
       "    <tr>\n",
       "      <th>1</th>\n",
       "      <td>202006</td>\n",
       "      <td>45315483266</td>\n",
       "      <td>Male</td>\n",
       "      <td>No</td>\n",
       "      <td>Yes</td>\n",
       "      <td>60</td>\n",
       "      <td>Yes</td>\n",
       "      <td>No</td>\n",
       "      <td>No</td>\n",
       "      <td>Yes</td>\n",
       "      <td>20.500</td>\n",
       "      <td>1198.800</td>\n",
       "      <td>No</td>\n",
       "    </tr>\n",
       "    <tr>\n",
       "      <th>2</th>\n",
       "      <td>202006</td>\n",
       "      <td>45236961615</td>\n",
       "      <td>Male</td>\n",
       "      <td>No</td>\n",
       "      <td>No</td>\n",
       "      <td>5</td>\n",
       "      <td>Yes</td>\n",
       "      <td>Yes</td>\n",
       "      <td>Yes</td>\n",
       "      <td>No</td>\n",
       "      <td>104.100</td>\n",
       "      <td>541.900</td>\n",
       "      <td>Yes</td>\n",
       "    </tr>\n",
       "    <tr>\n",
       "      <th>3</th>\n",
       "      <td>202006</td>\n",
       "      <td>45929827382</td>\n",
       "      <td>Female</td>\n",
       "      <td>No</td>\n",
       "      <td>Yes</td>\n",
       "      <td>72</td>\n",
       "      <td>Yes</td>\n",
       "      <td>Yes</td>\n",
       "      <td>Yes</td>\n",
       "      <td>Yes</td>\n",
       "      <td>115.500</td>\n",
       "      <td>8312.750</td>\n",
       "      <td>No</td>\n",
       "    </tr>\n",
       "    <tr>\n",
       "      <th>4</th>\n",
       "      <td>202006</td>\n",
       "      <td>45305082233</td>\n",
       "      <td>Female</td>\n",
       "      <td>No</td>\n",
       "      <td>Yes</td>\n",
       "      <td>56</td>\n",
       "      <td>Yes</td>\n",
       "      <td>Yes</td>\n",
       "      <td>Yes</td>\n",
       "      <td>No</td>\n",
       "      <td>81.250</td>\n",
       "      <td>4620.400</td>\n",
       "      <td>No</td>\n",
       "    </tr>\n",
       "  </tbody>\n",
       "</table>\n",
       "</div>"
      ],
      "text/plain": [
       "   UpdatedAt   customerID  gender SeniorCitizen Partner  tenure PhoneService StreamingTV InternetService PaperlessBilling  MonthlyCharges  TotalCharges Churn\n",
       "0     202006  45759018157  Female            No     Yes       1           No          No             Yes              Yes          29.850        29.850    No\n",
       "1     202006  45315483266    Male            No     Yes      60          Yes          No              No              Yes          20.500      1198.800    No\n",
       "2     202006  45236961615    Male            No      No       5          Yes         Yes             Yes               No         104.100       541.900   Yes\n",
       "3     202006  45929827382  Female            No     Yes      72          Yes         Yes             Yes              Yes         115.500      8312.750    No\n",
       "4     202006  45305082233  Female            No     Yes      56          Yes         Yes             Yes               No          81.250      4620.400    No"
      ]
     },
     "execution_count": 20,
     "metadata": {},
     "output_type": "execute_result"
    }
   ],
   "source": [
    "telco = pd.read_csv('dqlab_telco_final.csv')\n",
    "telco.head(5)"
   ]
  },
  {
   "cell_type": "code",
   "execution_count": 21,
   "id": "23828bb0",
   "metadata": {},
   "outputs": [
    {
     "name": "stdout",
     "output_type": "stream",
     "text": [
      "<class 'pandas.core.frame.DataFrame'>\n",
      "RangeIndex: 6950 entries, 0 to 6949\n",
      "Data columns (total 13 columns):\n",
      " #   Column            Non-Null Count  Dtype  \n",
      "---  ------            --------------  -----  \n",
      " 0   UpdatedAt         6950 non-null   int64  \n",
      " 1   customerID        6950 non-null   int64  \n",
      " 2   gender            6950 non-null   object \n",
      " 3   SeniorCitizen     6950 non-null   object \n",
      " 4   Partner           6950 non-null   object \n",
      " 5   tenure            6950 non-null   int64  \n",
      " 6   PhoneService      6950 non-null   object \n",
      " 7   StreamingTV       6950 non-null   object \n",
      " 8   InternetService   6950 non-null   object \n",
      " 9   PaperlessBilling  6950 non-null   object \n",
      " 10  MonthlyCharges    6950 non-null   float64\n",
      " 11  TotalCharges      6950 non-null   float64\n",
      " 12  Churn             6950 non-null   object \n",
      "dtypes: float64(2), int64(3), object(8)\n",
      "memory usage: 706.0+ KB\n"
     ]
    }
   ],
   "source": [
    "telco.info()"
   ]
  },
  {
   "cell_type": "code",
   "execution_count": 22,
   "id": "906857c5",
   "metadata": {},
   "outputs": [
    {
     "data": {
      "text/html": [
       "<div>\n",
       "<style scoped>\n",
       "    .dataframe tbody tr th:only-of-type {\n",
       "        vertical-align: middle;\n",
       "    }\n",
       "\n",
       "    .dataframe tbody tr th {\n",
       "        vertical-align: top;\n",
       "    }\n",
       "\n",
       "    .dataframe thead th {\n",
       "        text-align: right;\n",
       "    }\n",
       "</style>\n",
       "<table border=\"1\" class=\"dataframe\">\n",
       "  <thead>\n",
       "    <tr style=\"text-align: right;\">\n",
       "      <th></th>\n",
       "      <th>UpdatedAt</th>\n",
       "      <th>customerID</th>\n",
       "      <th>tenure</th>\n",
       "      <th>MonthlyCharges</th>\n",
       "      <th>TotalCharges</th>\n",
       "    </tr>\n",
       "  </thead>\n",
       "  <tbody>\n",
       "    <tr>\n",
       "      <th>count</th>\n",
       "      <td>6950.000</td>\n",
       "      <td>6950.000</td>\n",
       "      <td>6950.000</td>\n",
       "      <td>6950.000</td>\n",
       "      <td>6950.000</td>\n",
       "    </tr>\n",
       "    <tr>\n",
       "      <th>mean</th>\n",
       "      <td>202006.000</td>\n",
       "      <td>45498975234.853</td>\n",
       "      <td>32.423</td>\n",
       "      <td>64.992</td>\n",
       "      <td>2286.059</td>\n",
       "    </tr>\n",
       "    <tr>\n",
       "      <th>std</th>\n",
       "      <td>0.000</td>\n",
       "      <td>285409137.050</td>\n",
       "      <td>24.581</td>\n",
       "      <td>30.032</td>\n",
       "      <td>2265.703</td>\n",
       "    </tr>\n",
       "    <tr>\n",
       "      <th>min</th>\n",
       "      <td>202006.000</td>\n",
       "      <td>45000258625.000</td>\n",
       "      <td>0.000</td>\n",
       "      <td>0.000</td>\n",
       "      <td>19.000</td>\n",
       "    </tr>\n",
       "    <tr>\n",
       "      <th>25%</th>\n",
       "      <td>202006.000</td>\n",
       "      <td>45256067521.000</td>\n",
       "      <td>9.000</td>\n",
       "      <td>36.463</td>\n",
       "      <td>406.975</td>\n",
       "    </tr>\n",
       "    <tr>\n",
       "      <th>50%</th>\n",
       "      <td>202006.000</td>\n",
       "      <td>45498705615.500</td>\n",
       "      <td>29.000</td>\n",
       "      <td>70.450</td>\n",
       "      <td>1400.850</td>\n",
       "    </tr>\n",
       "    <tr>\n",
       "      <th>75%</th>\n",
       "      <td>202006.000</td>\n",
       "      <td>45743844787.500</td>\n",
       "      <td>55.000</td>\n",
       "      <td>89.850</td>\n",
       "      <td>3799.838</td>\n",
       "    </tr>\n",
       "    <tr>\n",
       "      <th>max</th>\n",
       "      <td>202006.000</td>\n",
       "      <td>45999585058.000</td>\n",
       "      <td>124.000</td>\n",
       "      <td>169.931</td>\n",
       "      <td>8889.131</td>\n",
       "    </tr>\n",
       "  </tbody>\n",
       "</table>\n",
       "</div>"
      ],
      "text/plain": [
       "       UpdatedAt      customerID   tenure  MonthlyCharges  TotalCharges\n",
       "count   6950.000        6950.000 6950.000        6950.000      6950.000\n",
       "mean  202006.000 45498975234.853   32.423          64.992      2286.059\n",
       "std        0.000   285409137.050   24.581          30.032      2265.703\n",
       "min   202006.000 45000258625.000    0.000           0.000        19.000\n",
       "25%   202006.000 45256067521.000    9.000          36.463       406.975\n",
       "50%   202006.000 45498705615.500   29.000          70.450      1400.850\n",
       "75%   202006.000 45743844787.500   55.000          89.850      3799.838\n",
       "max   202006.000 45999585058.000  124.000         169.931      8889.131"
      ]
     },
     "execution_count": 22,
     "metadata": {},
     "output_type": "execute_result"
    }
   ],
   "source": [
    "telco.describe()"
   ]
  },
  {
   "cell_type": "markdown",
   "id": "91359160",
   "metadata": {},
   "source": [
    "### Exploratory Data Analysis"
   ]
  },
  {
   "cell_type": "markdown",
   "id": "04ed3dfc",
   "metadata": {},
   "source": [
    "#### Selected Atribute Data inrelevant "
   ]
  },
  {
   "cell_type": "code",
   "execution_count": 23,
   "id": "ab164290",
   "metadata": {},
   "outputs": [
    {
     "data": {
      "text/html": [
       "<div>\n",
       "<style scoped>\n",
       "    .dataframe tbody tr th:only-of-type {\n",
       "        vertical-align: middle;\n",
       "    }\n",
       "\n",
       "    .dataframe tbody tr th {\n",
       "        vertical-align: top;\n",
       "    }\n",
       "\n",
       "    .dataframe thead th {\n",
       "        text-align: right;\n",
       "    }\n",
       "</style>\n",
       "<table border=\"1\" class=\"dataframe\">\n",
       "  <thead>\n",
       "    <tr style=\"text-align: right;\">\n",
       "      <th></th>\n",
       "      <th>gender</th>\n",
       "      <th>SeniorCitizen</th>\n",
       "      <th>Partner</th>\n",
       "      <th>tenure</th>\n",
       "      <th>PhoneService</th>\n",
       "      <th>StreamingTV</th>\n",
       "      <th>InternetService</th>\n",
       "      <th>PaperlessBilling</th>\n",
       "      <th>MonthlyCharges</th>\n",
       "      <th>TotalCharges</th>\n",
       "      <th>Churn</th>\n",
       "    </tr>\n",
       "  </thead>\n",
       "  <tbody>\n",
       "    <tr>\n",
       "      <th>0</th>\n",
       "      <td>Female</td>\n",
       "      <td>No</td>\n",
       "      <td>Yes</td>\n",
       "      <td>1</td>\n",
       "      <td>No</td>\n",
       "      <td>No</td>\n",
       "      <td>Yes</td>\n",
       "      <td>Yes</td>\n",
       "      <td>29.850</td>\n",
       "      <td>29.850</td>\n",
       "      <td>No</td>\n",
       "    </tr>\n",
       "    <tr>\n",
       "      <th>1</th>\n",
       "      <td>Male</td>\n",
       "      <td>No</td>\n",
       "      <td>Yes</td>\n",
       "      <td>60</td>\n",
       "      <td>Yes</td>\n",
       "      <td>No</td>\n",
       "      <td>No</td>\n",
       "      <td>Yes</td>\n",
       "      <td>20.500</td>\n",
       "      <td>1198.800</td>\n",
       "      <td>No</td>\n",
       "    </tr>\n",
       "    <tr>\n",
       "      <th>2</th>\n",
       "      <td>Male</td>\n",
       "      <td>No</td>\n",
       "      <td>No</td>\n",
       "      <td>5</td>\n",
       "      <td>Yes</td>\n",
       "      <td>Yes</td>\n",
       "      <td>Yes</td>\n",
       "      <td>No</td>\n",
       "      <td>104.100</td>\n",
       "      <td>541.900</td>\n",
       "      <td>Yes</td>\n",
       "    </tr>\n",
       "    <tr>\n",
       "      <th>3</th>\n",
       "      <td>Female</td>\n",
       "      <td>No</td>\n",
       "      <td>Yes</td>\n",
       "      <td>72</td>\n",
       "      <td>Yes</td>\n",
       "      <td>Yes</td>\n",
       "      <td>Yes</td>\n",
       "      <td>Yes</td>\n",
       "      <td>115.500</td>\n",
       "      <td>8312.750</td>\n",
       "      <td>No</td>\n",
       "    </tr>\n",
       "    <tr>\n",
       "      <th>4</th>\n",
       "      <td>Female</td>\n",
       "      <td>No</td>\n",
       "      <td>Yes</td>\n",
       "      <td>56</td>\n",
       "      <td>Yes</td>\n",
       "      <td>Yes</td>\n",
       "      <td>Yes</td>\n",
       "      <td>No</td>\n",
       "      <td>81.250</td>\n",
       "      <td>4620.400</td>\n",
       "      <td>No</td>\n",
       "    </tr>\n",
       "  </tbody>\n",
       "</table>\n",
       "</div>"
      ],
      "text/plain": [
       "   gender SeniorCitizen Partner  tenure PhoneService StreamingTV InternetService PaperlessBilling  MonthlyCharges  TotalCharges Churn\n",
       "0  Female            No     Yes       1           No          No             Yes              Yes          29.850        29.850    No\n",
       "1    Male            No     Yes      60          Yes          No              No              Yes          20.500      1198.800    No\n",
       "2    Male            No      No       5          Yes         Yes             Yes               No         104.100       541.900   Yes\n",
       "3  Female            No     Yes      72          Yes         Yes             Yes              Yes         115.500      8312.750    No\n",
       "4  Female            No     Yes      56          Yes         Yes             Yes               No          81.250      4620.400    No"
      ]
     },
     "execution_count": 23,
     "metadata": {},
     "output_type": "execute_result"
    }
   ],
   "source": [
    "telco.drop(['customerID', 'UpdatedAt'],axis = 1, inplace = True)\n",
    "telco.head()"
   ]
  },
  {
   "cell_type": "code",
   "execution_count": 24,
   "id": "61d8449b",
   "metadata": {},
   "outputs": [],
   "source": [
    "#selected atribute data\n",
    "num_cols = ['tenure', 'MonthlyCharges', 'TotalCharges']"
   ]
  },
  {
   "cell_type": "markdown",
   "id": "04d172e9",
   "metadata": {},
   "source": [
    "#### Distribution Densitify"
   ]
  },
  {
   "cell_type": "code",
   "execution_count": 25,
   "id": "5d866896",
   "metadata": {},
   "outputs": [
    {
     "data": {
      "image/png": "[encoded data removed]",
      "text/plain": [
       "<Figure size 432x288 with 1 Axes>"
      ]
     },
     "metadata": {
      "needs_background": "light"
     },
     "output_type": "display_data"
    },
    {
     "data": {
      "image/png": "[encoded data removed]",
      "text/plain": [
       "<Figure size 432x288 with 1 Axes>"
      ]
     },
     "metadata": {
      "needs_background": "light"
     },
     "output_type": "display_data"
    },
    {
     "data": {
      "image/png": "[encoded data removed]",
      "text/plain": [
       "<Figure size 432x288 with 1 Axes>"
      ]
     },
     "metadata": {
      "needs_background": "light"
     },
     "output_type": "display_data"
    }
   ],
   "source": [
    "#distribution denstify\n",
    "for i in num_cols:\n",
    "    sns.distplot(telco[i])\n",
    "    plt.show()"
   ]
  },
  {
   "cell_type": "markdown",
   "id": "90cdae69",
   "metadata": {},
   "source": [
    "#### Heatmap Correlation"
   ]
  },
  {
   "cell_type": "code",
   "execution_count": 26,
   "id": "81a84911",
   "metadata": {},
   "outputs": [
    {
     "data": {
      "image/png": "[encoded data removed]",
      "text/plain": [
       "<Figure size 1800x720 with 2 Axes>"
      ]
     },
     "metadata": {
      "needs_background": "light"
     },
     "output_type": "display_data"
    }
   ],
   "source": [
    "plt.figure(figsize=(25, 10))\n",
    "\n",
    "corr = telco.apply(lambda x: pd.factorize(x)[0]).corr()\n",
    "\n",
    "mask = np.triu(np.ones_like(corr, dtype=bool))\n",
    "\n",
    "ax = sns.heatmap(corr, mask=mask, xticklabels=corr.columns, yticklabels=corr.columns, annot=True, linewidths=.2, cmap='coolwarm', vmin=-1, vmax=1)"
   ]
  },
  {
   "cell_type": "markdown",
   "id": "964d24df",
   "metadata": {},
   "source": [
    "### Encoding"
   ]
  },
  {
   "cell_type": "markdown",
   "id": "f13a631e",
   "metadata": {},
   "source": [
    "#### One Hot Encoding Caterogical Values"
   ]
  },
  {
   "cell_type": "code",
   "execution_count": 27,
   "id": "aace9aea",
   "metadata": {},
   "outputs": [],
   "source": [
    "#define categorial \n",
    "categorical = telco.select_dtypes('object').columns"
   ]
  },
  {
   "cell_type": "code",
   "execution_count": 28,
   "id": "74875bbb",
   "metadata": {},
   "outputs": [],
   "source": [
    "def one_hot_encoder(telco, categorical, drop_first=False):\n",
    "    telco = pd.get_dummies(telco, columns=categorical, drop_first=drop_first)\n",
    "    return telco"
   ]
  },
  {
   "cell_type": "code",
   "execution_count": 29,
   "id": "c2c50600",
   "metadata": {},
   "outputs": [
    {
     "data": {
      "text/html": [
       "<div>\n",
       "<style scoped>\n",
       "    .dataframe tbody tr th:only-of-type {\n",
       "        vertical-align: middle;\n",
       "    }\n",
       "\n",
       "    .dataframe tbody tr th {\n",
       "        vertical-align: top;\n",
       "    }\n",
       "\n",
       "    .dataframe thead th {\n",
       "        text-align: right;\n",
       "    }\n",
       "</style>\n",
       "<table border=\"1\" class=\"dataframe\">\n",
       "  <thead>\n",
       "    <tr style=\"text-align: right;\">\n",
       "      <th></th>\n",
       "      <th>tenure</th>\n",
       "      <th>MonthlyCharges</th>\n",
       "      <th>TotalCharges</th>\n",
       "      <th>gender_Male</th>\n",
       "      <th>SeniorCitizen_Yes</th>\n",
       "      <th>Partner_Yes</th>\n",
       "      <th>PhoneService_Yes</th>\n",
       "      <th>StreamingTV_Yes</th>\n",
       "      <th>InternetService_Yes</th>\n",
       "      <th>PaperlessBilling_Yes</th>\n",
       "      <th>Churn_Yes</th>\n",
       "    </tr>\n",
       "  </thead>\n",
       "  <tbody>\n",
       "    <tr>\n",
       "      <th>0</th>\n",
       "      <td>1</td>\n",
       "      <td>29.850</td>\n",
       "      <td>29.850</td>\n",
       "      <td>0</td>\n",
       "      <td>0</td>\n",
       "      <td>1</td>\n",
       "      <td>0</td>\n",
       "      <td>0</td>\n",
       "      <td>1</td>\n",
       "      <td>1</td>\n",
       "      <td>0</td>\n",
       "    </tr>\n",
       "    <tr>\n",
       "      <th>1</th>\n",
       "      <td>60</td>\n",
       "      <td>20.500</td>\n",
       "      <td>1198.800</td>\n",
       "      <td>1</td>\n",
       "      <td>0</td>\n",
       "      <td>1</td>\n",
       "      <td>1</td>\n",
       "      <td>0</td>\n",
       "      <td>0</td>\n",
       "      <td>1</td>\n",
       "      <td>0</td>\n",
       "    </tr>\n",
       "    <tr>\n",
       "      <th>2</th>\n",
       "      <td>5</td>\n",
       "      <td>104.100</td>\n",
       "      <td>541.900</td>\n",
       "      <td>1</td>\n",
       "      <td>0</td>\n",
       "      <td>0</td>\n",
       "      <td>1</td>\n",
       "      <td>1</td>\n",
       "      <td>1</td>\n",
       "      <td>0</td>\n",
       "      <td>1</td>\n",
       "    </tr>\n",
       "    <tr>\n",
       "      <th>3</th>\n",
       "      <td>72</td>\n",
       "      <td>115.500</td>\n",
       "      <td>8312.750</td>\n",
       "      <td>0</td>\n",
       "      <td>0</td>\n",
       "      <td>1</td>\n",
       "      <td>1</td>\n",
       "      <td>1</td>\n",
       "      <td>1</td>\n",
       "      <td>1</td>\n",
       "      <td>0</td>\n",
       "    </tr>\n",
       "    <tr>\n",
       "      <th>4</th>\n",
       "      <td>56</td>\n",
       "      <td>81.250</td>\n",
       "      <td>4620.400</td>\n",
       "      <td>0</td>\n",
       "      <td>0</td>\n",
       "      <td>1</td>\n",
       "      <td>1</td>\n",
       "      <td>1</td>\n",
       "      <td>1</td>\n",
       "      <td>0</td>\n",
       "      <td>0</td>\n",
       "    </tr>\n",
       "  </tbody>\n",
       "</table>\n",
       "</div>"
      ],
      "text/plain": [
       "   tenure  MonthlyCharges  TotalCharges  gender_Male  SeniorCitizen_Yes  Partner_Yes  PhoneService_Yes  StreamingTV_Yes  InternetService_Yes  PaperlessBilling_Yes  Churn_Yes\n",
       "0       1          29.850        29.850            0                  0            1                 0                0                    1                     1          0\n",
       "1      60          20.500      1198.800            1                  0            1                 1                0                    0                     1          0\n",
       "2       5         104.100       541.900            1                  0            0                 1                1                    1                     0          1\n",
       "3      72         115.500      8312.750            0                  0            1                 1                1                    1                     1          0\n",
       "4      56          81.250      4620.400            0                  0            1                 1                1                    1                     0          0"
      ]
     },
     "execution_count": 29,
     "metadata": {},
     "output_type": "execute_result"
    }
   ],
   "source": [
    "telco_encoder = one_hot_encoder(telco, categorical, drop_first=True)\n",
    "telco_encoder.head()"
   ]
  },
  {
   "cell_type": "markdown",
   "id": "2ca5359c",
   "metadata": {},
   "source": [
    "### ML Modeling\n"
   ]
  },
  {
   "cell_type": "code",
   "execution_count": 60,
   "id": "d34bb23c",
   "metadata": {},
   "outputs": [],
   "source": [
    "X = telco_encoder.drop('Churn_Yes',axis = 1).values\n",
    "y = telco_encoder['Churn_Yes'].values"
   ]
  },
  {
   "cell_type": "markdown",
   "id": "957887b1",
   "metadata": {},
   "source": [
    "#### Spliting Data"
   ]
  },
  {
   "cell_type": "code",
   "execution_count": 61,
   "id": "1d012ca9",
   "metadata": {},
   "outputs": [],
   "source": [
    "X_train, X_test, y_train, y_test = train_test_split(X,y, test_size = 0.8, random_state = 123, stratify = y)"
   ]
  },
  {
   "cell_type": "markdown",
   "id": "cea9c580",
   "metadata": {},
   "source": [
    "#### K-Nearest Neighbors Algorithm"
   ]
  },
  {
   "cell_type": "code",
   "execution_count": 63,
   "id": "e2cceafc",
   "metadata": {},
   "outputs": [
    {
     "name": "stdout",
     "output_type": "stream",
     "text": [
      "              precision    recall  f1-score   support\n",
      "\n",
      "           0       0.80      0.88      0.84      4091\n",
      "           1       0.54      0.39      0.45      1469\n",
      "\n",
      "    accuracy                           0.75      5560\n",
      "   macro avg       0.67      0.64      0.65      5560\n",
      "weighted avg       0.73      0.75      0.74      5560\n",
      "\n"
     ]
    },
    {
     "data": {
      "text/plain": [
       "<AxesSubplot:title={'center':'Confusion Matrix'}, xlabel='Predicted label', ylabel='True label'>"
      ]
     },
     "execution_count": 63,
     "metadata": {},
     "output_type": "execute_result"
    },
    {
     "data": {
      "image/png": "[encoded data removed]",
      "text/plain": [
       "<Figure size 432x288 with 2 Axes>"
      ]
     },
     "metadata": {
      "needs_background": "light"
     },
     "output_type": "display_data"
    }
   ],
   "source": [
    "knn = KNeighborsClassifier() ## n_neighbors is 5 by default\n",
    "knn.fit(X_train,y_train)\n",
    "y_pred_knn = knn.predict(X_test)\n",
    "print(classification_report(y_test,y_pred_knn))\n",
    "\n",
    "skplot.metrics.plot_confusion_matrix(y_test,y_pred_knn)"
   ]
  },
  {
   "cell_type": "code",
   "execution_count": null,
   "id": "9e2fa5b0",
   "metadata": {},
   "outputs": [],
   "source": []
  }
 ],
 "metadata": {
  "kernelspec": {
   "display_name": "env_pred_analytics",
   "language": "python",
   "name": "env_pred_analytics"
  },
  "language_info": {
   "codemirror_mode": {
    "name": "ipython",
    "version": 3
   },
   "file_extension": ".py",
   "mimetype": "text/x-python",
   "name": "python",
   "nbconvert_exporter": "python",
   "pygments_lexer": "ipython3",
   "version": "3.9.12"
  }
 },
 "nbformat": 4,
 "nbformat_minor": 5
}
